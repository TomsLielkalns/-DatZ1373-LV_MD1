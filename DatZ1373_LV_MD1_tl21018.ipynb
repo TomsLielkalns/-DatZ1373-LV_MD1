{
  "nbformat": 4,
  "nbformat_minor": 0,
  "metadata": {
    "colab": {
      "provenance": [],
      "toc_visible": true
    },
    "kernelspec": {
      "name": "python3",
      "display_name": "Python 3"
    },
    "language_info": {
      "name": "python"
    }
  },
  "cells": [
    {
      "cell_type": "code",
      "execution_count": 45,
      "metadata": {
        "colab": {
          "base_uri": "https://localhost:8080/"
        },
        "id": "cMIKHaZZe5aa",
        "outputId": "85e0345e-7bcd-4c25-8a58-9bafb169331d"
      },
      "outputs": [
        {
          "output_type": "stream",
          "name": "stdout",
          "text": [
            "Requirement already satisfied: hfst_dev in /usr/local/lib/python3.10/dist-packages (3.15.0.10b0)\n"
          ]
        }
      ],
      "source": [
        "!pip install hfst_dev\n",
        "import hfst_dev\n",
        "from hfst_dev import compose"
      ]
    },
    {
      "cell_type": "code",
      "source": [
        "!wget -O Latvian.lexc https://raw.githubusercontent.com/TomsLielkalns/DatZ1373-LV_MD1/main/Latvian.lexc"
      ],
      "metadata": {
        "colab": {
          "base_uri": "https://localhost:8080/"
        },
        "id": "uBzXPDiOfkog",
        "outputId": "8be46353-20a4-4683-f641-cb1f0d124b63"
      },
      "execution_count": 46,
      "outputs": [
        {
          "output_type": "stream",
          "name": "stdout",
          "text": [
            "--2024-03-28 15:49:51--  https://raw.githubusercontent.com/TomsLielkalns/DatZ1373-LV_MD1/main/Latvian.lexc\n",
            "Resolving raw.githubusercontent.com (raw.githubusercontent.com)... 185.199.108.133, 185.199.109.133, 185.199.110.133, ...\n",
            "Connecting to raw.githubusercontent.com (raw.githubusercontent.com)|185.199.108.133|:443... connected.\n",
            "HTTP request sent, awaiting response... 200 OK\n",
            "Length: 810 [text/plain]\n",
            "Saving to: ‘Latvian.lexc’\n",
            "\n",
            "\rLatvian.lexc          0%[                    ]       0  --.-KB/s               \rLatvian.lexc        100%[===================>]     810  --.-KB/s    in 0s      \n",
            "\n",
            "2024-03-28 15:49:51 (39.9 MB/s) - ‘Latvian.lexc’ saved [810/810]\n",
            "\n"
          ]
        }
      ]
    },
    {
      "cell_type": "markdown",
      "source": [
        "# Leksikona ģeneratora ielāde un izveide no datnes Latvian.lexc"
      ],
      "metadata": {
        "id": "H9d9ooZawDHw"
      }
    },
    {
      "cell_type": "code",
      "source": [
        "generator = hfst_dev.compile_lexc_file('Latvian.lexc')\n",
        "\n",
        "print(generator.lookup('med+N+Sg+Dat'))\n",
        "print(generator.lookup('led+N+Sg+Nom'))\n",
        "print(generator.lookup('tirg+N+Sg+Acc'))\n",
        "print(generator.lookup('seg+N+Sg+Loc'))\n",
        "print(generator.lookup('lamp+N+Sg+Gen'))\n",
        "print(generator.lookup('som+N+Sg+Dat'))\n",
        "print(generator.lookup('krūz+N+Sg+Nom'))\n",
        "print(generator.lookup('saul+N+Sg+Dat'))\n",
        "print(generator.lookup('zem+N+Sg+Nom'))\n",
        "print(generator.lookup('lād+N+Sg+Dat'))"
      ],
      "metadata": {
        "colab": {
          "base_uri": "https://localhost:8080/"
        },
        "id": "Xmg7im4YgfzQ",
        "outputId": "052662d7-9811-42a4-ad20-fa893f4ccfe9"
      },
      "execution_count": 47,
      "outputs": [
        {
          "output_type": "stream",
          "name": "stdout",
          "text": [
            "(('med^um', 0.0),)\n",
            "(('led^us', 0.0),)\n",
            "(('tirg^u', 0.0),)\n",
            "(('seg^ā', 0.0),)\n",
            "(('lamp^as', 0.0),)\n",
            "(('som^ai', 0.0),)\n",
            "(('krūz^e', 0.0),)\n",
            "(('saul^ei', 0.0),)\n",
            "(('zem^e', 0.0),)\n",
            "(('lād^ei', 0.0),)\n"
          ]
        }
      ]
    },
    {
      "cell_type": "markdown",
      "source": [
        "# Burtu aizvietošana\n",
        "Burti tiek aizvietoti ar mīkstajiem, garajiem, vai citiem burtiem, kur nepieciešams."
      ],
      "metadata": {
        "id": "9ReTLEWkvyiM"
      }
    },
    {
      "cell_type": "code",
      "source": [
        "ZReplacement = hfst_dev.regex('z -> ž ||  _ \"^\" M')\n",
        "DtoZReplacement = hfst_dev.regex('d -> ž ||  _ \"^\" M')\n",
        "LReplacement = hfst_dev.regex('l -> ļ ||  _ \"^\" M')\n",
        "print(ZReplacement.lookup(\"krūz^Mu'\"))\n",
        "print(DtoZReplacement.lookup(\"lād^Mu\"))\n",
        "print(LReplacement.lookup(\"saul^Mu\"))"
      ],
      "metadata": {
        "colab": {
          "base_uri": "https://localhost:8080/"
        },
        "id": "OFAZVsu-hstL",
        "outputId": "bbc82adb-b679-4ff1-b5f2-f6c3a7578f2c"
      },
      "execution_count": 48,
      "outputs": [
        {
          "output_type": "stream",
          "name": "stdout",
          "text": [
            "((\"krūž^Mu'\", 0.0),)\n",
            "(('lāž^Mu', 0.0),)\n",
            "(('sauļ^Mu', 0.0),)\n"
          ]
        }
      ]
    },
    {
      "cell_type": "markdown",
      "source": [
        "# \"J\" burta iespraušana vārdā \"zeme\"\n",
        "Vārdam \"zeme\" nepieciešams iespraust burtu \"J\", lai neveidotos vārds \"zemu\""
      ],
      "metadata": {
        "id": "yEfds8vpvV0p"
      }
    },
    {
      "cell_type": "code",
      "source": [
        "InsertJ = hfst_dev.regex('[..] -> j || [b | f | m | p | v] _ \"^\" M')\n",
        "print(InsertJ.lookup(\"zem^Mu'\"))"
      ],
      "metadata": {
        "colab": {
          "base_uri": "https://localhost:8080/"
        },
        "id": "EvjdxMB8iQXk",
        "outputId": "b465f091-d2a8-4d6f-b941-738671a37050"
      },
      "execution_count": 49,
      "outputs": [
        {
          "output_type": "stream",
          "name": "stdout",
          "text": [
            "((\"zemj^Mu'\", 0.0),)\n"
          ]
        }
      ]
    },
    {
      "cell_type": "markdown",
      "source": [
        "# Palīgsimbolu dzēšana\n",
        "Atbrīvojas no galotņu atzīmēšanas palīgsimboliem."
      ],
      "metadata": {
        "id": "SXeKFkhXuhui"
      }
    },
    {
      "cell_type": "code",
      "source": [
        "MCleanup = hfst_dev.regex('\"^\" M -> 0')\n",
        "CleanupRoof = hfst_dev.regex('\"^\" -> 0')\n",
        "\n",
        "cascadeDel = compose((generator, MCleanup, CleanupRoof))\n",
        "print(cascadeDel.lookup(\"zem+N+Sg+Nom\"))\n",
        "print(cascadeDel.lookup(\"zem+N+Sg+Acc\"))"
      ],
      "metadata": {
        "colab": {
          "base_uri": "https://localhost:8080/"
        },
        "id": "SE3xTS6BlP04",
        "outputId": "fe21e0f7-06e5-4ae0-fa1c-58de31f554bb"
      },
      "execution_count": 52,
      "outputs": [
        {
          "output_type": "stream",
          "name": "stdout",
          "text": [
            "(('zeme', 0.0),)\n",
            "(('zemi', 0.0),)\n"
          ]
        }
      ]
    },
    {
      "cell_type": "markdown",
      "source": [
        "# Izņēmuma gadījums vārdam \"Sarakste\"\n",
        "Notiek līdzskaņu mija ģenetīva daudzskaitlī t->š, bet vārds \"sarakste\" ir izņēmums, un pareizi jābūt \"sarakstu\" nevis \"sarakšu\"."
      ],
      "metadata": {
        "id": "ORJ-kLI9utNZ"
      }
    },
    {
      "cell_type": "code",
      "source": [
        "Exceptions = hfst_dev.regex('[[{sarakst} \"+N\" \"+Pl\" \"+Gen\" .x. {sarakstu}] ]')\n",
        "print(Exceptions.lookup(\"sarakst+N+Pl+Gen\"))"
      ],
      "metadata": {
        "colab": {
          "base_uri": "https://localhost:8080/"
        },
        "id": "NYz4W59oodYR",
        "outputId": "8ee3a110-f75a-4132-cf57-06a401fe9dbe"
      },
      "execution_count": 51,
      "outputs": [
        {
          "output_type": "stream",
          "name": "stdout",
          "text": [
            "(('sarakstu', 0.0),)\n"
          ]
        }
      ]
    }
  ]
}